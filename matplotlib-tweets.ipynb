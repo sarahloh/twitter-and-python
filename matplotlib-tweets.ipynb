{
 "cells": [
  {
   "cell_type": "code",
   "execution_count": 18,
   "metadata": {},
   "outputs": [
    {
     "name": "stdout",
     "output_type": "stream",
     "text": [
      "Using matplotlib backend: MacOSX\n",
      "500\n"
     ]
    }
   ],
   "source": [
    "%matplotlib\n",
    "import matplotlib.pyplot as plt\n",
    "import json\n",
    "\n",
    "TWEETS_DATA_PATH = \"tweet_mining.json\"\n",
    "\n",
    "results = []\n",
    "with open(TWEETS_DATA_PATH) as tweet_file:\n",
    "    for tweet_line in tweet_file:\n",
    "        try:\n",
    "            status = json.loads(tweet_line)\n",
    "            results.append(status)\n",
    "        except ValueError:\n",
    "            pass\n",
    "        \n",
    "print(len(results))"
   ]
  },
  {
   "cell_type": "code",
   "execution_count": 19,
   "metadata": {},
   "outputs": [
    {
     "name": "stdout",
     "output_type": "stream",
     "text": [
      "                                                text lang country\n",
      "0  As a kdrama fan sa lahat nang napanood ko lagi...   tl     N/A\n",
      "1  RT @RejiYates: @MikezAFC_ Happy Birthday, have...   en     N/A\n",
      "2  RT @ChinaPlusNews: Opinion: The EU and China s...   en     N/A\n",
      "3  RT @godblessbrendon: happy #OnlineFriendApprec...   en     N/A\n",
      "4  RT @itz_amarah: Hey there,\\n\\nDo you know anyo...   en     N/A\n"
     ]
    }
   ],
   "source": [
    "import pandas\n",
    "\n",
    "# create a DataFrame\n",
    "statuses = pandas.DataFrame()\n",
    "\n",
    "# store the tweet text values\n",
    "statuses['text'] = [status['text'] for status in results]\n",
    "# store the tweet language values\n",
    "statuses['lang'] = [status['lang'] for status in results]\n",
    "# store the tweet place values, or \"N/A\" if none\n",
    "statuses['country'] = [status['place']['country'] if status['place'] else \"N/A\" for status in results]\n",
    "\n",
    "print(statuses.head())"
   ]
  },
  {
   "cell_type": "code",
   "execution_count": 20,
   "metadata": {},
   "outputs": [
    {
     "name": "stdout",
     "output_type": "stream",
     "text": [
      "en     452\n",
      "tl      13\n",
      "ja      11\n",
      "und      7\n",
      "es       4\n",
      "th       4\n",
      "ko       3\n",
      "in       2\n",
      "tr       1\n",
      "pt       1\n",
      "ta       1\n",
      "fr       1\n",
      "Name: lang, dtype: int64\n",
      "N/A               493\n",
      "United Kingdom      4\n",
      "Nederland           1\n",
      "United States       1\n",
      "South Africa        1\n",
      "Name: country, dtype: int64\n"
     ]
    }
   ],
   "source": [
    "# get each tweet language and the count of its appearance\n",
    "tweets_by_lang = statuses['lang'].value_counts()\n",
    "# get each tweet country and the count of its appearance\n",
    "tweets_by_country = statuses['country'].value_counts()\n",
    "\n",
    "print(tweets_by_lang)\n",
    "print(tweets_by_country)"
   ]
  },
  {
   "cell_type": "code",
   "execution_count": 21,
   "metadata": {},
   "outputs": [],
   "source": [
    "# create out drawing space (figure)\n",
    "fig = plt.figure()\n",
    "fig.subplots_adjust(hspace=.9)\n",
    "\n",
    "# prepare to plot two charts on the same figure\n",
    "ax1 = fig.add_subplot(2,1,1)\n",
    "ax2 = fig.add_subplot(2,1,2)\n",
    "\n",
    "# style the axes\n",
    "ax1.tick_params(axis='x', labelsize=15)\n",
    "ax1.tick_params(axis='y', labelsize=10)\n",
    "ax1.set_xlabel('Tweet languages', fontsize=15)\n",
    "ax1.set_xlabel('Number of tweets', fontsize=15)\n",
    "ax1.xaxis.label.set_color('#666666')\n",
    "ax1.yaxis.label.set_color('#666666')\n",
    "ax1.tick_params(axis='x', colors='#666666')\n",
    "ax1.tick_params(axis='y', colors='#666666')\n",
    "\n",
    "# style the title\n",
    "ax1.set_title('Top 10 languages', fontsize=15, color='#aaaaaa')\n",
    "\n",
    "# plot the top 10 tweet languages and count using a bar chart\n",
    "tweets_by_lang[:10].plot(ax=ax1, kind='bar', color='#FF7A00')\n",
    "\n",
    "# color the spines (border)\n",
    "for spine in ax1.spines.values():\n",
    "    spine.set_edgecolor('#666666')\n",
    "    \n",
    "# Second subplot\n",
    "ax2.tick_params(axis='x', labelsize=15)\n",
    "ax2.tick_params(axis='y', labelsize=10)\n",
    "ax2.set_xlabel('Tweet Countries', fontsize=15)\n",
    "ax2.set_xlabel('Number of tweets', fontsize=15)\n",
    "ax2.xaxis.label.set_color('#666666')\n",
    "ax2.yaxis.label.set_color('#666666')\n",
    "ax2.tick_params(axis='x', colors='#666666')\n",
    "ax2.tick_params(axis='y', colors='#666666')\n",
    "\n",
    "# style the title\n",
    "ax2.set_title('Top 10 Countries', fontsize=15, color='#aaaaaa')\n",
    "\n",
    "# plot the top 10 tweet countries and count using a bar chart\n",
    "tweets_by_country[:10].plot(ax=ax2, kind='bar', color='#FF7A00')\n",
    "\n",
    "# color the spines (border)\n",
    "for spine in ax2.spines.values():\n",
    "    spine.set_edgecolor('#666666')\n",
    "    \n",
    "# render the two graphs at once\n",
    "plt.show()"
   ]
  },
  {
   "cell_type": "code",
   "execution_count": null,
   "metadata": {},
   "outputs": [],
   "source": []
  }
 ],
 "metadata": {
  "kernelspec": {
   "display_name": "Python 3",
   "language": "python",
   "name": "python3"
  },
  "language_info": {
   "codemirror_mode": {
    "name": "ipython",
    "version": 3
   },
   "file_extension": ".py",
   "mimetype": "text/x-python",
   "name": "python",
   "nbconvert_exporter": "python",
   "pygments_lexer": "ipython3",
   "version": "3.6.5"
  }
 },
 "nbformat": 4,
 "nbformat_minor": 2
}

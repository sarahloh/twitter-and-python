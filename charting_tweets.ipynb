{
 "cells": [
  {
   "cell_type": "code",
   "execution_count": 11,
   "metadata": {},
   "outputs": [
    {
     "name": "stdout",
     "output_type": "stream",
     "text": [
      "Using matplotlib backend: MacOSX\n"
     ]
    }
   ],
   "source": [
    "%matplotlib\n",
    "import matplotlib.pyplot as plt\n",
    "import json\n",
    "\n",
    "TWEETS_DATA_PATH = 'tweet_mining.json'\n",
    "\n",
    "def read_json(file_path):\n",
    "    results = []\n",
    "    with open(TWEETS_DATA_PATH) as tweets_file:\n",
    "        for tweet_line in tweets_file:\n",
    "            try:\n",
    "                status = json.loads(tweet_line)\n",
    "                results.append(status)\n",
    "            except ValueError:\n",
    "                pass\n",
    "        return results\n"
   ]
  },
  {
   "cell_type": "code",
   "execution_count": 12,
   "metadata": {},
   "outputs": [],
   "source": [
    "import re\n",
    "\n",
    "def is_token_in_tweet_text(token, tweet_text):\n",
    "    token = token.lower()\n",
    "    tweet_text = ''.join(tweet_text).lower()\n",
    "    match = re.search(token, tweet_text)\n",
    "    if match:\n",
    "        return True\n",
    "    return False\n",
    "\n",
    "results = read_json(TWEETS_DATA_PATH)\n"
   ]
  },
  {
   "cell_type": "code",
   "execution_count": 13,
   "metadata": {},
   "outputs": [
    {
     "name": "stdout",
     "output_type": "stream",
     "text": [
      "310\n",
      "24\n",
      "85\n"
     ]
    }
   ],
   "source": [
    "import pandas\n",
    "\n",
    "statuses = pandas.DataFrame()\n",
    "\n",
    "statuses['text'] = [status['text'] for status in results]\n",
    "\n",
    "statuses['happy'] = statuses['text'].apply(lambda status: is_token_in_tweet_text('happy', status))\n",
    "statuses['positive'] = statuses['text'].apply(lambda status: is_token_in_tweet_text('positive', status))\n",
    "statuses['smile'] = statuses['text'].apply(lambda status: is_token_in_tweet_text('smile', status))\n",
    "\n",
    "# output the number of tweets where it is true that they contain our keywords\n",
    "print(statuses['happy'].value_counts()[True])\n",
    "print(statuses['positive'].value_counts()[True])\n",
    "print(statuses['smile'].value_counts()[True])\n",
    "\n",
    "\n"
   ]
  },
  {
   "cell_type": "code",
   "execution_count": 21,
   "metadata": {},
   "outputs": [],
   "source": [
    "def lang_pie():\n",
    "    slices = [statuses['happy'].value_counts()[True],\n",
    "              statuses['positive'].value_counts()[True],\n",
    "              statuses['smile'].value_counts()[True]]\n",
    "    keywords = ['happy', 'positive', 'smile']\n",
    "    cols = ['c', 'm', 'r']\n",
    "    \n",
    "    plt.pie(slices, colors=cols, labels=keywords, startangle=90, shadow=True, explode=(0.5, 0, 0.5), autopct='%1.1f%%')\n",
    "    \n",
    "    plt.title('Tweet Incidence \\nof Keywords')\n",
    "    plt.show()\n",
    "\n",
    "lang_pie()"
   ]
  },
  {
   "cell_type": "code",
   "execution_count": null,
   "metadata": {},
   "outputs": [],
   "source": []
  }
 ],
 "metadata": {
  "kernelspec": {
   "display_name": "Python 3",
   "language": "python",
   "name": "python3"
  },
  "language_info": {
   "codemirror_mode": {
    "name": "ipython",
    "version": 3
   },
   "file_extension": ".py",
   "mimetype": "text/x-python",
   "name": "python",
   "nbconvert_exporter": "python",
   "pygments_lexer": "ipython3",
   "version": "3.6.5"
  }
 },
 "nbformat": 4,
 "nbformat_minor": 2
}
